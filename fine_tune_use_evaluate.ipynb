{
 "cells": [
  {
   "cell_type": "markdown",
   "id": "25eac0af-a9df-4a2c-a602-4a25747a4821",
   "metadata": {},
   "source": [
    "# Use and Evaluate Fine-tuned Model"
   ]
  },
  {
   "cell_type": "code",
   "execution_count": 1,
   "id": "d9504bfb-f357-43c1-9c4b-0fca959fb436",
   "metadata": {},
   "outputs": [],
   "source": [
    "import os\n",
    "import openai\n",
    "\n",
    "from dotenv import load_dotenv, find_dotenv\n",
    "\n",
    "_ = load_dotenv(find_dotenv()) # read local .env file\n",
    "openai.api_key  = os.getenv('OPENAI_API_KEY')"
   ]
  },
  {
   "cell_type": "code",
   "execution_count": 2,
   "id": "6648ee2d-d48b-4741-9774-d4df3bedbf86",
   "metadata": {},
   "outputs": [],
   "source": [
    "fine_tuned_model = \"ft:gpt-3.5-turbo-0613:personal::8B9gl9uo\"     #obtained from fine tuning process\n",
    "instruction = \"Classify the input as either 'Likely fake.' or 'Not suspected to be fake.'.\""
   ]
  },
  {
   "cell_type": "code",
   "execution_count": 3,
   "id": "b3dbd3bf-51e4-458f-bee0-3ca6ca601dde",
   "metadata": {},
   "outputs": [],
   "source": [
    "def classify_news(input_news, instruction=instruction, fine_tuned_model=fine_tuned_model):\n",
    "    completion = openai.ChatCompletion.create(\n",
    "      model=fine_tuned_model,\n",
    "      messages=[\n",
    "        {\"role\": \"system\", \"content\": instruction},\n",
    "        {\"role\": \"user\", \"content\": input_news}\n",
    "      ]\n",
    "    )\n",
    "    return completion.choices[0].message"
   ]
  },
  {
   "cell_type": "code",
   "execution_count": 4,
   "id": "3b5dbfbc-b6dc-4b9a-b550-afd777783e65",
   "metadata": {},
   "outputs": [],
   "source": [
    "def split_news(text_file):\n",
    "    with open(text_file, \"r\") as f:\n",
    "        string_whole = f.read()\n",
    "    list_news = string_whole.split('#')\n",
    "    return list_news"
   ]
  },
  {
   "cell_type": "code",
   "execution_count": 5,
   "id": "8b74b17c-f118-46ff-8e8d-15b756a9b3a0",
   "metadata": {},
   "outputs": [
    {
     "data": {
      "text/plain": [
       "10"
      ]
     },
     "execution_count": 5,
     "metadata": {},
     "output_type": "execute_result"
    }
   ],
   "source": [
    "fake_news_test = split_news('onion_test.txt')\n",
    "response_ft_fake = []\n",
    "response_org_fake = []\n",
    "len(fake_news_test)"
   ]
  },
  {
   "cell_type": "code",
   "execution_count": 6,
   "id": "914e7ab9-fbc0-43d4-97bf-002223a6f200",
   "metadata": {},
   "outputs": [
    {
     "name": "stdout",
     "output_type": "stream",
     "text": [
      "-------Fake news-----------\n",
      "Responses from fine-tuned model:\n",
      "{\n",
      "  \"role\": \"assistant\",\n",
      "  \"content\": \"Likely fake.\"\n",
      "}\n",
      "{\n",
      "  \"role\": \"assistant\",\n",
      "  \"content\": \"Likely fake.\"\n",
      "}\n",
      "{\n",
      "  \"role\": \"assistant\",\n",
      "  \"content\": \"Likely fake.\"\n",
      "}\n",
      "{\n",
      "  \"role\": \"assistant\",\n",
      "  \"content\": \"Likely fake.\"\n",
      "}\n",
      "{\n",
      "  \"role\": \"assistant\",\n",
      "  \"content\": \"Likely fake.\"\n",
      "}\n",
      "{\n",
      "  \"role\": \"assistant\",\n",
      "  \"content\": \"Likely fake.\"\n",
      "}\n",
      "{\n",
      "  \"role\": \"assistant\",\n",
      "  \"content\": \"Likely fake.\"\n",
      "}\n",
      "{\n",
      "  \"role\": \"assistant\",\n",
      "  \"content\": \"Likely fake.\"\n",
      "}\n",
      "{\n",
      "  \"role\": \"assistant\",\n",
      "  \"content\": \"Likely fake.\"\n",
      "}\n",
      "{\n",
      "  \"role\": \"assistant\",\n",
      "  \"content\": \"Likely fake.\"\n",
      "}\n",
      "---------------------------\n",
      "Responses from original model:\n",
      "{\n",
      "  \"role\": \"assistant\",\n",
      "  \"content\": \"Likely fake.\"\n",
      "}\n",
      "{\n",
      "  \"role\": \"assistant\",\n",
      "  \"content\": \"Likely fake.\"\n",
      "}\n",
      "{\n",
      "  \"role\": \"assistant\",\n",
      "  \"content\": \"Likely fake.\"\n",
      "}\n",
      "{\n",
      "  \"role\": \"assistant\",\n",
      "  \"content\": \"Likely fake.\"\n",
      "}\n",
      "{\n",
      "  \"role\": \"assistant\",\n",
      "  \"content\": \"Likely fake.\"\n",
      "}\n",
      "{\n",
      "  \"role\": \"assistant\",\n",
      "  \"content\": \"Likely fake.\"\n",
      "}\n",
      "{\n",
      "  \"role\": \"assistant\",\n",
      "  \"content\": \"Not suspected to be fake.\"\n",
      "}\n",
      "{\n",
      "  \"role\": \"assistant\",\n",
      "  \"content\": \"Likely fake.\"\n",
      "}\n",
      "{\n",
      "  \"role\": \"assistant\",\n",
      "  \"content\": \"Likely fake.\"\n",
      "}\n",
      "{\n",
      "  \"role\": \"assistant\",\n",
      "  \"content\": \"Likely fake.\"\n",
      "}\n"
     ]
    }
   ],
   "source": [
    "print('-------Fake news-----------')\n",
    "\n",
    "print('Responses from fine-tuned model:')\n",
    "for news in fake_news_test:\n",
    "    response_ft_fake.append(classify_news(news))\n",
    "    print(response_ft_fake[-1])\n",
    "    \n",
    "print('---------------------------')\n",
    "print('Responses from original model:')\n",
    "for news in fake_news_test:\n",
    "    response_org_fake.append(classify_news(news, fine_tuned_model=\"gpt-3.5-turbo-0613\"))\n",
    "    print(response_org_fake[-1])"
   ]
  },
  {
   "cell_type": "code",
   "execution_count": 7,
   "id": "b26abcf5-6b3e-4ea6-a94a-7f172f23eea1",
   "metadata": {},
   "outputs": [],
   "source": [
    "def response_ft_org(news_list, fine_tuned_model=fine_tuned_model, original_model=\"gpt-3.5-turbo-0613\"):\n",
    "    response_ft = [classify_news(news, fine_tuned_model=fine_tuned_model)['content'] for news in news_list]\n",
    "    response_org = [classify_news(news, fine_tuned_model=original_model)['content'] for news in news_list]\n",
    "    return response_ft, response_org"
   ]
  },
  {
   "cell_type": "code",
   "execution_count": 8,
   "id": "071fd241-9195-46c2-aa6a-e1f750a44312",
   "metadata": {},
   "outputs": [
    {
     "name": "stdout",
     "output_type": "stream",
     "text": [
      "10\n"
     ]
    }
   ],
   "source": [
    "cnn_news_test = split_news('cnn_test.txt')\n",
    "print(len(cnn_news_test))\n",
    "cnn_resp_ft, cnn_resp_org, = response_ft_org(cnn_news_test)"
   ]
  },
  {
   "cell_type": "code",
   "execution_count": 11,
   "id": "fe3853dd-624f-49e8-b738-dd66277777e3",
   "metadata": {},
   "outputs": [
    {
     "name": "stdout",
     "output_type": "stream",
     "text": [
      "-------CNN news-----------\n",
      "Responses from fine-tuned model:\n",
      "Not suspected to be fake.\n",
      "Not suspected to be fake.\n",
      "Not suspected to be fake.\n",
      "Not suspected to be fake.\n",
      "Not suspected to be fake.\n",
      "Not suspected to be fake.\n",
      "Not suspected to be fake.\n",
      "Not suspected to be fake.\n",
      "Not suspected to be fake.\n",
      "Not suspected to be fake.\n",
      "---------------------------\n",
      "Responses from original model:\n",
      "Not suspected to be fake.\n",
      "Not suspected to be fake.\n",
      "Not suspected to be fake.\n",
      "Not suspected to be fake.\n",
      "Not suspected to be fake.\n",
      "Not suspected to be fake.\n",
      "Not suspected to be fake.\n",
      "Not suspected to be fake.\n",
      "Not suspected to be fake.\n",
      "Likely fake.\n"
     ]
    }
   ],
   "source": [
    "print('-------CNN news-----------')\n",
    "print('Responses from fine-tuned model:')\n",
    "for response in cnn_resp_ft:\n",
    "    print(response)\n",
    "print('---------------------------')\n",
    "print('Responses from original model:')\n",
    "for response in cnn_resp_org:\n",
    "    print(response)"
   ]
  },
  {
   "cell_type": "markdown",
   "id": "f66209da-818d-43d0-ad32-e1c428c6a727",
   "metadata": {},
   "source": [
    "## Conclusion"
   ]
  },
  {
   "cell_type": "markdown",
   "id": "7a5bfe10-5054-4739-92a1-315b35218e5b",
   "metadata": {},
   "source": [
    "Fine-tuned model shows 100% accuracy, better than original model's 90%, for a testing sample size of 20 in total. For more robust testing, use larger testing sample and try other sources of news. Note: both training and testing data are balanced or roughly balanced.\n",
    "\n",
    "For usage, the function classify_news can be readily used to identify obvious fake news."
   ]
  }
 ],
 "metadata": {
  "kernelspec": {
   "display_name": "Python 3 (ipykernel)",
   "language": "python",
   "name": "python3"
  },
  "language_info": {
   "codemirror_mode": {
    "name": "ipython",
    "version": 3
   },
   "file_extension": ".py",
   "mimetype": "text/x-python",
   "name": "python",
   "nbconvert_exporter": "python",
   "pygments_lexer": "ipython3",
   "version": "3.9.7"
  }
 },
 "nbformat": 4,
 "nbformat_minor": 5
}
