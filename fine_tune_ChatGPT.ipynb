{
 "cells": [
  {
   "cell_type": "code",
   "execution_count": 1,
   "id": "ebb15b7b-3260-48c6-9442-2cb0f74d475f",
   "metadata": {},
   "outputs": [],
   "source": [
    "import json\n",
    "import random\n",
    "import gzip\n",
    "import tiktoken # for token counting\n",
    "import numpy as np\n",
    "from collections import defaultdict"
   ]
  },
  {
   "cell_type": "code",
   "execution_count": 2,
   "id": "fc1c04d2-1590-4db3-a515-46da202054f8",
   "metadata": {},
   "outputs": [],
   "source": [
    "instruction = \"Classify the input as either 'Likely fake.' or 'Not suspected to be fake.'.\""
   ]
  },
  {
   "cell_type": "code",
   "execution_count": 3,
   "id": "3bd85722-dde5-47a5-9844-1f15eb9883cd",
   "metadata": {},
   "outputs": [],
   "source": [
    "def openai_format(news_single, label_single):\n",
    "    return {\"messages\": [{\"role\": \"system\", \"content\":instruction}, {\"role\": \"user\", \"content\":news_single}, {\"role\": \"assistant\", \"content\":label_single}]}"
   ]
  },
  {
   "cell_type": "code",
   "execution_count": 4,
   "id": "016b9cfa-fd4d-4126-9c2c-5bb4ec4f6206",
   "metadata": {},
   "outputs": [],
   "source": [
    "def split_news(text_file):\n",
    "    with open(text_file, \"r\") as f:\n",
    "        string_whole = f.read()\n",
    "    list_news = string_whole.split('#')\n",
    "    return list_news"
   ]
  },
  {
   "cell_type": "code",
   "execution_count": 5,
   "id": "2449128a-1998-45b1-88b6-16e94fd6bc03",
   "metadata": {},
   "outputs": [],
   "source": [
    "def dicts_to_jsonl(data_list: list, filename: str, compress: bool = False) -> None:\n",
    "    # https://ml-gis-service.com/index.php/2022/04/27/toolbox-python-list-of-dicts-to-jsonl-json-lines/\n",
    "    \"\"\"\n",
    "    Method saves list of dicts into jsonl file.\n",
    "    :param data: (list) list of dicts to be stored,\n",
    "    :param filename: (str) path to the output file. If suffix .jsonl is not given then methods appends\n",
    "        .jsonl suffix into the file.\n",
    "    :param compress: (bool) should file be compressed into a gzip archive?\n",
    "    \"\"\"\n",
    "    sjsonl = '.jsonl'\n",
    "    sgz = '.gz'\n",
    "    # Check filename\n",
    "    if not filename.endswith(sjsonl):\n",
    "        filename = filename + sjsonl\n",
    "    # Save data\n",
    "    \n",
    "    if compress:\n",
    "        filename = filename + sgz\n",
    "        with gzip.open(filename, 'w') as compressed:\n",
    "            for ddict in data_list:\n",
    "                jout = json.dumps(ddict) + '\\n'\n",
    "                jout = jout.encode('utf-8')\n",
    "                compressed.write(jout)\n",
    "    else:\n",
    "        with open(filename, 'w') as out:\n",
    "            for ddict in data_list:\n",
    "                jout = json.dumps(ddict) + '\\n'\n",
    "                out.write(jout)"
   ]
  },
  {
   "cell_type": "code",
   "execution_count": 6,
   "id": "fe76ba72-faaa-4dc2-af72-04d9f2fe7328",
   "metadata": {},
   "outputs": [],
   "source": [
    "def news_to_dicts(news_file, label):\n",
    "    news = split_news(news_file)\n",
    "    list_dict = [openai_format(n, label) for n in news]\n",
    "    return list_dict"
   ]
  },
  {
   "cell_type": "code",
   "execution_count": 7,
   "id": "06b3f6fb-35d9-46c7-8b17-58a0c7b5a01f",
   "metadata": {},
   "outputs": [],
   "source": [
    "list_dict = news_to_dicts('onion_article.txt', 'Likely fake.') + news_to_dicts('cnn_news.txt', 'Not suspected to be fake.')\n",
    "random.shuffle(list_dict)"
   ]
  },
  {
   "cell_type": "code",
   "execution_count": 8,
   "id": "bcb68535-809c-4338-bcc8-ad2b8e8a18ca",
   "metadata": {},
   "outputs": [],
   "source": [
    "# split to training and validation dataset, then convert to jsonl\n",
    "t = 51 \n",
    "ft_train,  ft_valid = list_dict[:t], list_dict[t:]\n",
    "dicts_to_jsonl(ft_train, \"ft_train.jsonl\")\n",
    "dicts_to_jsonl(ft_valid, \"ft_valid.jsonl\")"
   ]
  },
  {
   "cell_type": "markdown",
   "id": "3a6ad844-5af4-4a2a-aafb-c257bbc48138",
   "metadata": {},
   "source": [
    "## Data Checking\n",
    "\n",
    "Modified from OpenAI sample scripts"
   ]
  },
  {
   "cell_type": "code",
   "execution_count": 9,
   "id": "835f6886-aa37-4fa6-ae48-d989fc861361",
   "metadata": {},
   "outputs": [],
   "source": [
    "data_path = \"ft_train.jsonl\""
   ]
  },
  {
   "cell_type": "code",
   "execution_count": 10,
   "id": "f8da56c3-271f-4dba-b02c-bf4151c88e39",
   "metadata": {},
   "outputs": [],
   "source": [
    "# Load the dataset\n",
    "with open(data_path, 'r', encoding='utf-8') as f:\n",
    "    dataset = [json.loads(line) for line in f]"
   ]
  },
  {
   "cell_type": "code",
   "execution_count": 11,
   "id": "cf5bc4b8-a007-4b8f-9703-985e2172e912",
   "metadata": {},
   "outputs": [
    {
     "name": "stdout",
     "output_type": "stream",
     "text": [
      "No errors found\n"
     ]
    }
   ],
   "source": [
    "# Format error checks\n",
    "format_errors = defaultdict(int)\n",
    "\n",
    "for ex in dataset:\n",
    "    if not isinstance(ex, dict):\n",
    "        format_errors[\"data_type\"] += 1\n",
    "        continue\n",
    "        \n",
    "    messages = ex.get(\"messages\", None)\n",
    "    if not messages:\n",
    "        format_errors[\"missing_messages_list\"] += 1\n",
    "        continue\n",
    "        \n",
    "    for message in messages:\n",
    "        if \"role\" not in message or \"content\" not in message:\n",
    "            format_errors[\"message_missing_key\"] += 1\n",
    "        \n",
    "        if any(k not in (\"role\", \"content\", \"name\", \"function_call\") for k in message):\n",
    "            format_errors[\"message_unrecognized_key\"] += 1\n",
    "        \n",
    "        if message.get(\"role\", None) not in (\"system\", \"user\", \"assistant\", \"function\"):\n",
    "            format_errors[\"unrecognized_role\"] += 1\n",
    "            \n",
    "        content = message.get(\"content\", None)\n",
    "        function_call = message.get(\"function_call\", None)\n",
    "        \n",
    "        if (not content and not function_call) or not isinstance(content, str):\n",
    "            format_errors[\"missing_content\"] += 1\n",
    "    \n",
    "    if not any(message.get(\"role\", None) == \"assistant\" for message in messages):\n",
    "        format_errors[\"example_missing_assistant_message\"] += 1\n",
    "\n",
    "if format_errors:\n",
    "    print(\"Found errors:\")\n",
    "    for k, v in format_errors.items():\n",
    "        print(f\"{k}: {v}\")\n",
    "else:\n",
    "    print(\"No errors found\")"
   ]
  },
  {
   "cell_type": "code",
   "execution_count": 12,
   "id": "472de248-f213-4fe6-a51d-63eb40b2118d",
   "metadata": {},
   "outputs": [],
   "source": [
    "# token counting ultilities\n",
    "\n",
    "encoding = tiktoken.get_encoding(\"cl100k_base\")\n",
    "\n",
    "# not exact!\n",
    "# simplified from https://github.com/openai/openai-cookbook/blob/main/examples/How_to_count_tokens_with_tiktoken.ipynb\n",
    "def num_tokens_from_messages(messages, tokens_per_message=3, tokens_per_name=1):\n",
    "    num_tokens = 0\n",
    "    for message in messages:\n",
    "        num_tokens += tokens_per_message\n",
    "        for key, value in message.items():\n",
    "            num_tokens += len(encoding.encode(value))\n",
    "            if key == \"name\":\n",
    "                num_tokens += tokens_per_name\n",
    "    num_tokens += 3\n",
    "    return num_tokens\n",
    "\n",
    "def num_assistant_tokens_from_messages(messages):\n",
    "    num_tokens = 0\n",
    "    for message in messages:\n",
    "        if message[\"role\"] == \"assistant\":\n",
    "            num_tokens += len(encoding.encode(message[\"content\"]))\n",
    "    return num_tokens\n",
    "\n",
    "def print_distribution(values, name):\n",
    "    print(f\"\\n#### Distribution of {name}:\")\n",
    "    print(f\"min / max: {min(values)}, {max(values)}\")\n",
    "    print(f\"mean / median: {np.mean(values)}, {np.median(values)}\")\n",
    "    print(f\"p5 / p95: {np.quantile(values, 0.1)}, {np.quantile(values, 0.9)}\")"
   ]
  },
  {
   "cell_type": "code",
   "execution_count": 13,
   "id": "8d085ada-048a-42a4-875e-4c1509725db4",
   "metadata": {},
   "outputs": [
    {
     "name": "stdout",
     "output_type": "stream",
     "text": [
      "Num examples missing system message: 0\n",
      "Num examples missing user message: 0\n",
      "\n",
      "#### Distribution of num_messages_per_example:\n",
      "min / max: 3, 3\n",
      "mean / median: 3.0, 3.0\n",
      "p5 / p95: 3.0, 3.0\n",
      "\n",
      "#### Distribution of num_total_tokens_per_example:\n",
      "min / max: 90, 698\n",
      "mean / median: 328.5686274509804, 317.0\n",
      "p5 / p95: 262.0, 435.0\n",
      "\n",
      "#### Distribution of num_assistant_tokens_per_example:\n",
      "min / max: 4, 6\n",
      "mean / median: 4.980392156862745, 4.0\n",
      "p5 / p95: 4.0, 6.0\n",
      "\n",
      "0 examples may be over the 4096 token limit, they will be truncated during fine-tuning\n"
     ]
    }
   ],
   "source": [
    "# Warnings and tokens counts\n",
    "n_missing_system = 0\n",
    "n_missing_user = 0\n",
    "n_messages = []\n",
    "convo_lens = []\n",
    "assistant_message_lens = []\n",
    "\n",
    "for ex in dataset:\n",
    "    messages = ex[\"messages\"]\n",
    "    if not any(message[\"role\"] == \"system\" for message in messages):\n",
    "        n_missing_system += 1\n",
    "    if not any(message[\"role\"] == \"user\" for message in messages):\n",
    "        n_missing_user += 1\n",
    "    n_messages.append(len(messages))\n",
    "    convo_lens.append(num_tokens_from_messages(messages))\n",
    "    assistant_message_lens.append(num_assistant_tokens_from_messages(messages))\n",
    "    \n",
    "print(\"Num examples missing system message:\", n_missing_system)\n",
    "print(\"Num examples missing user message:\", n_missing_user)\n",
    "print_distribution(n_messages, \"num_messages_per_example\")\n",
    "print_distribution(convo_lens, \"num_total_tokens_per_example\")\n",
    "print_distribution(assistant_message_lens, \"num_assistant_tokens_per_example\")\n",
    "n_too_long = sum(l > 4096 for l in convo_lens)\n",
    "print(f\"\\n{n_too_long} examples may be over the 4096 token limit, they will be truncated during fine-tuning\")"
   ]
  },
  {
   "cell_type": "code",
   "execution_count": 14,
   "id": "94dfb781-4d66-446e-99df-ef17c33d0f98",
   "metadata": {},
   "outputs": [
    {
     "name": "stdout",
     "output_type": "stream",
     "text": [
      "Dataset has ~16757 tokens that will be charged for during training\n",
      "By default, you'll train for 3 epochs on this dataset\n",
      "By default, you'll be charged for ~50271 tokens\n"
     ]
    }
   ],
   "source": [
    "# Pricing and default n_epochs estimate\n",
    "MAX_TOKENS_PER_EXAMPLE = 4096\n",
    "\n",
    "TARGET_EPOCHS = 3\n",
    "MIN_TARGET_EXAMPLES = 100\n",
    "MAX_TARGET_EXAMPLES = 25000\n",
    "MIN_DEFAULT_EPOCHS = 1\n",
    "MAX_DEFAULT_EPOCHS = 25\n",
    "\n",
    "n_epochs = TARGET_EPOCHS\n",
    "n_train_examples = len(dataset)\n",
    "if n_train_examples * TARGET_EPOCHS < MIN_TARGET_EXAMPLES:\n",
    "    n_epochs = min(MAX_DEFAULT_EPOCHS, MIN_TARGET_EXAMPLES // n_train_examples)\n",
    "elif n_train_examples * TARGET_EPOCHS > MAX_TARGET_EXAMPLES:\n",
    "    n_epochs = max(MIN_DEFAULT_EPOCHS, MAX_TARGET_EXAMPLES // n_train_examples)\n",
    "\n",
    "n_billing_tokens_in_dataset = sum(min(MAX_TOKENS_PER_EXAMPLE, length) for length in convo_lens)\n",
    "print(f\"Dataset has ~{n_billing_tokens_in_dataset} tokens that will be charged for during training\")\n",
    "print(f\"By default, you'll train for {n_epochs} epochs on this dataset\")\n",
    "print(f\"By default, you'll be charged for ~{n_epochs * n_billing_tokens_in_dataset} tokens\")"
   ]
  },
  {
   "cell_type": "markdown",
   "id": "456e810a-0fd1-474d-bb90-b5b93927158f",
   "metadata": {},
   "source": [
    "## Upload to OpenAI"
   ]
  },
  {
   "cell_type": "code",
   "execution_count": 15,
   "id": "b4b171ce-7b01-4f35-a3e2-fb4274bf59d6",
   "metadata": {},
   "outputs": [],
   "source": [
    "import os\n",
    "import openai\n",
    "\n",
    "from dotenv import load_dotenv, find_dotenv\n",
    "\n",
    "_ = load_dotenv(find_dotenv()) # read local .env file\n",
    "openai.api_key  = os.getenv('OPENAI_API_KEY')"
   ]
  },
  {
   "cell_type": "code",
   "execution_count": 16,
   "id": "83d39b76-5333-4ff2-b29c-851452f89515",
   "metadata": {},
   "outputs": [
    {
     "data": {
      "text/plain": [
       "<File file id=file-XYM0IZ0sA56oMxt3VKTOgVN5 at 0x10e58f360> JSON: {\n",
       "  \"object\": \"file\",\n",
       "  \"id\": \"file-XYM0IZ0sA56oMxt3VKTOgVN5\",\n",
       "  \"purpose\": \"fine-tune\",\n",
       "  \"filename\": \"file\",\n",
       "  \"bytes\": 85746,\n",
       "  \"created_at\": 1697668301,\n",
       "  \"status\": \"uploaded\",\n",
       "  \"status_details\": null\n",
       "}"
      ]
     },
     "execution_count": 16,
     "metadata": {},
     "output_type": "execute_result"
    }
   ],
   "source": [
    "openai.File.create(\n",
    "  file=open(\"ft_train.jsonl\", \"rb\"),\n",
    "  purpose='fine-tune'\n",
    ")"
   ]
  },
  {
   "cell_type": "code",
   "execution_count": 17,
   "id": "1f6611c1-250b-46b5-8b69-67dc14aa9619",
   "metadata": {},
   "outputs": [
    {
     "data": {
      "text/plain": [
       "<File file id=file-0U0Zec4vxYLMbiQHD1XkvxBT at 0x10f9198b0> JSON: {\n",
       "  \"object\": \"file\",\n",
       "  \"id\": \"file-0U0Zec4vxYLMbiQHD1XkvxBT\",\n",
       "  \"purpose\": \"fine-tune\",\n",
       "  \"filename\": \"file\",\n",
       "  \"bytes\": 29906,\n",
       "  \"created_at\": 1697668302,\n",
       "  \"status\": \"uploaded\",\n",
       "  \"status_details\": null\n",
       "}"
      ]
     },
     "execution_count": 17,
     "metadata": {},
     "output_type": "execute_result"
    }
   ],
   "source": [
    "openai.File.create(\n",
    "  file=open(\"ft_valid.jsonl\", \"rb\"),\n",
    "  purpose='fine-tune'\n",
    ")"
   ]
  },
  {
   "cell_type": "markdown",
   "id": "8da6ab33-df06-4963-be79-8d8a02a9d966",
   "metadata": {},
   "source": [
    "## Start Fine-tuning"
   ]
  },
  {
   "cell_type": "markdown",
   "id": "fe4995f6-50dd-478b-b311-3c0a1e55cd07",
   "metadata": {},
   "source": [
    "Obtain IDs of files from above file objects, then start fine-tuning."
   ]
  },
  {
   "cell_type": "code",
   "execution_count": 18,
   "id": "1f260c70-4ceb-47ad-83bc-04c9eccaa0dc",
   "metadata": {},
   "outputs": [
    {
     "data": {
      "text/plain": [
       "<FineTuningJob fine_tuning.job id=ftjob-BoIsGcBm2diBSGg174dcJ17Q at 0x10e58f090> JSON: {\n",
       "  \"object\": \"fine_tuning.job\",\n",
       "  \"id\": \"ftjob-BoIsGcBm2diBSGg174dcJ17Q\",\n",
       "  \"model\": \"gpt-3.5-turbo-0613\",\n",
       "  \"created_at\": 1697668303,\n",
       "  \"finished_at\": null,\n",
       "  \"fine_tuned_model\": null,\n",
       "  \"organization_id\": \"org-NGnL5tnUnu3nZEri5Tb21z0h\",\n",
       "  \"result_files\": [],\n",
       "  \"status\": \"validating_files\",\n",
       "  \"validation_file\": \"file-juD22dDlnwtroUetln81e90I\",\n",
       "  \"training_file\": \"file-dlHUAfTQFHyJqxeXfGIUyevj\",\n",
       "  \"hyperparameters\": {\n",
       "    \"n_epochs\": 3\n",
       "  },\n",
       "  \"trained_tokens\": null,\n",
       "  \"error\": null\n",
       "}"
      ]
     },
     "execution_count": 18,
     "metadata": {},
     "output_type": "execute_result"
    }
   ],
   "source": [
    "openai.FineTuningJob.create(training_file=\"file-dlHUAfTQFHyJqxeXfGIUyevj\", validation_file=\"file-juD22dDlnwtroUetln81e90I\", model=\"gpt-3.5-turbo\", hyperparameters={\"n_epochs\":3})"
   ]
  },
  {
   "cell_type": "markdown",
   "id": "74c42f09-562a-4218-a537-f1fec6f94d64",
   "metadata": {},
   "source": [
    "Obtain fine-tuning job id from the above."
   ]
  },
  {
   "cell_type": "code",
   "execution_count": 19,
   "id": "6fa93bfb-3e25-45cc-bd52-97c02d644e4a",
   "metadata": {},
   "outputs": [
    {
     "data": {
      "text/plain": [
       "<FineTuningJob fine_tuning.job id=ftjob-BoIsGcBm2diBSGg174dcJ17Q at 0x10d0c7d60> JSON: {\n",
       "  \"object\": \"fine_tuning.job\",\n",
       "  \"id\": \"ftjob-BoIsGcBm2diBSGg174dcJ17Q\",\n",
       "  \"model\": \"gpt-3.5-turbo-0613\",\n",
       "  \"created_at\": 1697668303,\n",
       "  \"finished_at\": null,\n",
       "  \"fine_tuned_model\": null,\n",
       "  \"organization_id\": \"org-NGnL5tnUnu3nZEri5Tb21z0h\",\n",
       "  \"result_files\": [],\n",
       "  \"status\": \"queued\",\n",
       "  \"validation_file\": \"file-juD22dDlnwtroUetln81e90I\",\n",
       "  \"training_file\": \"file-dlHUAfTQFHyJqxeXfGIUyevj\",\n",
       "  \"hyperparameters\": {\n",
       "    \"n_epochs\": 3\n",
       "  },\n",
       "  \"trained_tokens\": null,\n",
       "  \"error\": null\n",
       "}"
      ]
     },
     "execution_count": 19,
     "metadata": {},
     "output_type": "execute_result"
    }
   ],
   "source": [
    "# Retrieve the state of a fine-tune\n",
    "openai.FineTuningJob.retrieve(\"ftjob-BoIsGcBm2diBSGg174dcJ17Q\")"
   ]
  },
  {
   "cell_type": "code",
   "execution_count": 21,
   "id": "aab848a4-068f-4ca2-b9bc-84bf7ebe6975",
   "metadata": {},
   "outputs": [
    {
     "data": {
      "text/plain": [
       "<OpenAIObject list at 0x10d0e37c0> JSON: {\n",
       "  \"object\": \"list\",\n",
       "  \"data\": [\n",
       "    {\n",
       "      \"object\": \"fine_tuning.job.event\",\n",
       "      \"id\": \"ftevent-shdo1XgFdB7UD9BGXnj7jOcX\",\n",
       "      \"created_at\": 1697669546,\n",
       "      \"level\": \"info\",\n",
       "      \"message\": \"The job has successfully completed\",\n",
       "      \"data\": {},\n",
       "      \"type\": \"message\"\n",
       "    },\n",
       "    {\n",
       "      \"object\": \"fine_tuning.job.event\",\n",
       "      \"id\": \"ftevent-234yM31o2c8wkykKlJDqtkcU\",\n",
       "      \"created_at\": 1697669544,\n",
       "      \"level\": \"info\",\n",
       "      \"message\": \"New fine-tuned model created: ft:gpt-3.5-turbo-0613:personal::8B9gl9uo\",\n",
       "      \"data\": {},\n",
       "      \"type\": \"message\"\n",
       "    },\n",
       "    {\n",
       "      \"object\": \"fine_tuning.job.event\",\n",
       "      \"id\": \"ftevent-Hk5ndIFOBGGnqYYCLomwKrI0\",\n",
       "      \"created_at\": 1697669532,\n",
       "      \"level\": \"info\",\n",
       "      \"message\": \"Step 151/153: training loss=0.00, validation loss=0.00\",\n",
       "      \"data\": {\n",
       "        \"step\": 151,\n",
       "        \"train_loss\": 7.152557373046875e-07,\n",
       "        \"valid_loss\": 7.152557373046875e-07,\n",
       "        \"train_mean_token_accuracy\": 1.0,\n",
       "        \"valid_mean_token_accuracy\": 0.75\n",
       "      },\n",
       "      \"type\": \"metrics\"\n",
       "    },\n",
       "    {\n",
       "      \"object\": \"fine_tuning.job.event\",\n",
       "      \"id\": \"ftevent-3gXCzs7x8DrqhRKRVgSbxRoZ\",\n",
       "      \"created_at\": 1697669512,\n",
       "      \"level\": \"info\",\n",
       "      \"message\": \"Step 141/153: training loss=0.00, validation loss=0.00\",\n",
       "      \"data\": {\n",
       "        \"step\": 141,\n",
       "        \"train_loss\": 9.5367431640625e-07,\n",
       "        \"valid_loss\": 7.152557373046875e-07,\n",
       "        \"train_mean_token_accuracy\": 1.0,\n",
       "        \"valid_mean_token_accuracy\": 0.75\n",
       "      },\n",
       "      \"type\": \"metrics\"\n",
       "    },\n",
       "    {\n",
       "      \"object\": \"fine_tuning.job.event\",\n",
       "      \"id\": \"ftevent-JhRZ3cLo90mvDNf5YcyILNiR\",\n",
       "      \"created_at\": 1697669490,\n",
       "      \"level\": \"info\",\n",
       "      \"message\": \"Step 131/153: training loss=0.00, validation loss=0.00\",\n",
       "      \"data\": {\n",
       "        \"step\": 131,\n",
       "        \"train_loss\": 9.5367431640625e-07,\n",
       "        \"valid_loss\": 9.5367431640625e-07,\n",
       "        \"train_mean_token_accuracy\": 1.0,\n",
       "        \"valid_mean_token_accuracy\": 0.5\n",
       "      },\n",
       "      \"type\": \"metrics\"\n",
       "    },\n",
       "    {\n",
       "      \"object\": \"fine_tuning.job.event\",\n",
       "      \"id\": \"ftevent-GWyUCGMig5xxXGI6skwQm5yp\",\n",
       "      \"created_at\": 1697669470,\n",
       "      \"level\": \"info\",\n",
       "      \"message\": \"Step 121/153: training loss=0.00, validation loss=0.00\",\n",
       "      \"data\": {\n",
       "        \"step\": 121,\n",
       "        \"train_loss\": 7.152557373046875e-07,\n",
       "        \"valid_loss\": 7.152557373046875e-07,\n",
       "        \"train_mean_token_accuracy\": 1.0,\n",
       "        \"valid_mean_token_accuracy\": 0.75\n",
       "      },\n",
       "      \"type\": \"metrics\"\n",
       "    },\n",
       "    {\n",
       "      \"object\": \"fine_tuning.job.event\",\n",
       "      \"id\": \"ftevent-NXIEQZx4lieyYXs7XJfYdWtM\",\n",
       "      \"created_at\": 1697669449,\n",
       "      \"level\": \"info\",\n",
       "      \"message\": \"Step 111/153: training loss=0.00, validation loss=0.00\",\n",
       "      \"data\": {\n",
       "        \"step\": 111,\n",
       "        \"train_loss\": 9.5367431640625e-07,\n",
       "        \"valid_loss\": 7.152557373046875e-07,\n",
       "        \"train_mean_token_accuracy\": 1.0,\n",
       "        \"valid_mean_token_accuracy\": 0.75\n",
       "      },\n",
       "      \"type\": \"metrics\"\n",
       "    },\n",
       "    {\n",
       "      \"object\": \"fine_tuning.job.event\",\n",
       "      \"id\": \"ftevent-xyIIyS9DLTEGRwp8198XW5zF\",\n",
       "      \"created_at\": 1697669427,\n",
       "      \"level\": \"info\",\n",
       "      \"message\": \"Step 101/153: training loss=0.00, validation loss=0.00\",\n",
       "      \"data\": {\n",
       "        \"step\": 101,\n",
       "        \"train_loss\": 9.5367431640625e-07,\n",
       "        \"valid_loss\": 9.5367431640625e-07,\n",
       "        \"train_mean_token_accuracy\": 1.0,\n",
       "        \"valid_mean_token_accuracy\": 0.5\n",
       "      },\n",
       "      \"type\": \"metrics\"\n",
       "    },\n",
       "    {\n",
       "      \"object\": \"fine_tuning.job.event\",\n",
       "      \"id\": \"ftevent-pC0knEV3OAaKh5LJIwK7yQyI\",\n",
       "      \"created_at\": 1697669405,\n",
       "      \"level\": \"info\",\n",
       "      \"message\": \"Step 91/153: training loss=0.00, validation loss=0.00\",\n",
       "      \"data\": {\n",
       "        \"step\": 91,\n",
       "        \"train_loss\": 9.5367431640625e-07,\n",
       "        \"valid_loss\": 1.2715657552083333e-06,\n",
       "        \"train_mean_token_accuracy\": 1.0,\n",
       "        \"valid_mean_token_accuracy\": 0.5\n",
       "      },\n",
       "      \"type\": \"metrics\"\n",
       "    },\n",
       "    {\n",
       "      \"object\": \"fine_tuning.job.event\",\n",
       "      \"id\": \"ftevent-SHFRqN8pOoOVkInNAdyg0R3n\",\n",
       "      \"created_at\": 1697669383,\n",
       "      \"level\": \"info\",\n",
       "      \"message\": \"Step 81/153: training loss=0.00, validation loss=0.00\",\n",
       "      \"data\": {\n",
       "        \"step\": 81,\n",
       "        \"train_loss\": 9.5367431640625e-07,\n",
       "        \"valid_loss\": 9.5367431640625e-07,\n",
       "        \"train_mean_token_accuracy\": 1.0,\n",
       "        \"valid_mean_token_accuracy\": 0.75\n",
       "      },\n",
       "      \"type\": \"metrics\"\n",
       "    }\n",
       "  ],\n",
       "  \"has_more\": true\n",
       "}"
      ]
     },
     "execution_count": 21,
     "metadata": {},
     "output_type": "execute_result"
    }
   ],
   "source": [
    "# List up to 10 events from a fine-tuning job\n",
    "openai.FineTuningJob.list_events(id=\"ftjob-BoIsGcBm2diBSGg174dcJ17Q\", limit=10)"
   ]
  },
  {
   "cell_type": "markdown",
   "id": "de8b5698-324d-4b57-b200-8c3f1e8b36a7",
   "metadata": {},
   "source": [
    "Obtain fine-tuned model number from the above.\n",
    "\n",
    "The model training and validation test results can be obtained from the email sent by OpenAI after fine-tuning is completed."
   ]
  },
  {
   "cell_type": "code",
   "execution_count": null,
   "id": "fef9c60b-43cc-4661-bb2c-ca433d2b4ec4",
   "metadata": {},
   "outputs": [],
   "source": []
  }
 ],
 "metadata": {
  "kernelspec": {
   "display_name": "Python 3 (ipykernel)",
   "language": "python",
   "name": "python3"
  },
  "language_info": {
   "codemirror_mode": {
    "name": "ipython",
    "version": 3
   },
   "file_extension": ".py",
   "mimetype": "text/x-python",
   "name": "python",
   "nbconvert_exporter": "python",
   "pygments_lexer": "ipython3",
   "version": "3.9.7"
  }
 },
 "nbformat": 4,
 "nbformat_minor": 5
}
